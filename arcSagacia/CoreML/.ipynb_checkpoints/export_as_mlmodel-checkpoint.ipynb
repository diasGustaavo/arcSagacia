{
 "cells": [
  {
   "cell_type": "code",
   "execution_count": 1,
   "id": "00470017",
   "metadata": {},
   "outputs": [],
   "source": [
    "import tensorflow as tf\n",
    "model = tf.keras.models.load_model('/Users/gustavodias/Downloads/1abrilCFineTuning.h5')\n"
   ]
  },
  {
   "cell_type": "code",
   "execution_count": 2,
   "id": "f98ea991",
   "metadata": {},
   "outputs": [
    {
     "name": "stdout",
     "output_type": "stream",
     "text": [
      "Model: \"model_1\"\n",
      "_________________________________________________________________\n",
      " Layer (type)                Output Shape              Param #   \n",
      "=================================================================\n",
      " input_2 (InputLayer)        [(None, 450, 450, 3)]     0         \n",
      "                                                                 \n",
      " block1_conv1 (Conv2D)       (None, 450, 450, 64)      1792      \n",
      "                                                                 \n",
      " block1_conv2 (Conv2D)       (None, 450, 450, 64)      36928     \n",
      "                                                                 \n",
      " block1_pool (MaxPooling2D)  (None, 225, 225, 64)      0         \n",
      "                                                                 \n",
      " block2_conv1 (Conv2D)       (None, 225, 225, 128)     73856     \n",
      "                                                                 \n",
      " block2_conv2 (Conv2D)       (None, 225, 225, 128)     147584    \n",
      "                                                                 \n",
      " block2_pool (MaxPooling2D)  (None, 112, 112, 128)     0         \n",
      "                                                                 \n",
      " block3_conv1 (Conv2D)       (None, 112, 112, 256)     295168    \n",
      "                                                                 \n",
      " block3_conv2 (Conv2D)       (None, 112, 112, 256)     590080    \n",
      "                                                                 \n",
      " block3_conv3 (Conv2D)       (None, 112, 112, 256)     590080    \n",
      "                                                                 \n",
      " block3_pool (MaxPooling2D)  (None, 56, 56, 256)       0         \n",
      "                                                                 \n",
      " block4_conv1 (Conv2D)       (None, 56, 56, 512)       1180160   \n",
      "                                                                 \n",
      " block4_conv2 (Conv2D)       (None, 56, 56, 512)       2359808   \n",
      "                                                                 \n",
      " block4_conv3 (Conv2D)       (None, 56, 56, 512)       2359808   \n",
      "                                                                 \n",
      " block4_pool (MaxPooling2D)  (None, 28, 28, 512)       0         \n",
      "                                                                 \n",
      " block5_conv1 (Conv2D)       (None, 28, 28, 512)       2359808   \n",
      "                                                                 \n",
      " block5_conv2 (Conv2D)       (None, 28, 28, 512)       2359808   \n",
      "                                                                 \n",
      " block5_conv3 (Conv2D)       (None, 28, 28, 512)       2359808   \n",
      "                                                                 \n",
      " block5_pool (MaxPooling2D)  (None, 14, 14, 512)       0         \n",
      "                                                                 \n",
      " flatten (Flatten)           (None, 100352)            0         \n",
      "                                                                 \n",
      " dense_3 (Dense)             (None, 4096)              411045888 \n",
      "                                                                 \n",
      " dense_4 (Dense)             (None, 1072)              4391984   \n",
      "                                                                 \n",
      " dropout_1 (Dropout)         (None, 1072)              0         \n",
      "                                                                 \n",
      " dense_5 (Dense)             (None, 5)                 5365      \n",
      "                                                                 \n",
      "=================================================================\n",
      "Total params: 430,157,925\n",
      "Trainable params: 417,803,045\n",
      "Non-trainable params: 12,354,880\n",
      "_________________________________________________________________\n"
     ]
    }
   ],
   "source": [
    "model.summary()\n"
   ]
  },
  {
   "cell_type": "code",
   "execution_count": 3,
   "id": "e1b23dfd",
   "metadata": {},
   "outputs": [
    {
     "name": "stdout",
     "output_type": "stream",
     "text": [
      "1/1 [==============================] - 2s 2s/step\n",
      "Predictions: [[1.4354858e-20 5.2862921e-31 1.4283208e-25 8.5396939e-21 1.0000000e+00]]\n",
      "Predicted class: neogotico\n"
     ]
    }
   ],
   "source": [
    "from tensorflow import keras\n",
    "from tensorflow.keras.preprocessing.image import load_img, img_to_array\n",
    "import numpy as np\n",
    "\n",
    "# Load the image\n",
    "img = load_img('/Users/gustavodias/Desktop/ArcStyles/train/Neogotico/200px-P1020476_Paris_VII_Basilique_Saint-Clotilde_rwk.JPG', target_size=(450, 450))\n",
    "\n",
    "# Preprocess the image\n",
    "img_array = img_to_array(img)\n",
    "img_array = np.expand_dims(img_array, axis=0)\n",
    "img_array = keras.applications.resnet50.preprocess_input(img_array)\n",
    "\n",
    "# Load the model\n",
    "# model = keras.models.load_model('my_model.h5')\n",
    "\n",
    "# Make a prediction\n",
    "predictions = model.predict(img_array)\n",
    "\n",
    "print(f'Predictions: {predictions}')\n",
    "\n",
    "# Interpret the prediction\n",
    "class_idx = np.argmax(predictions)\n",
    "class_names = ['barroco', 'ind', 'mod', 'neoclassica', 'neogotico']\n",
    "predicted_class = class_names[class_idx]\n",
    "\n",
    "print(f'Predicted class: {predicted_class}')\n"
   ]
  },
  {
   "cell_type": "code",
   "execution_count": null,
   "id": "8f188282",
   "metadata": {},
   "outputs": [
    {
     "name": "stderr",
     "output_type": "stream",
     "text": [
      "scikit-learn version 1.2.2 is not supported. Minimum required version: 0.17. Maximum required version: 1.1.2. Disabling scikit-learn conversion API.\n",
      "TensorFlow version 2.11.0 has not been tested with coremltools. You may run into unexpected errors. TensorFlow 2.10.0 is the most recent version that has been tested.\n"
     ]
    }
   ],
   "source": [
    "import coremltools as ct\n",
    "coreml_model = ct.convert(model)\n"
   ]
  },
  {
   "cell_type": "code",
   "execution_count": null,
   "id": "0f7b832b",
   "metadata": {},
   "outputs": [],
   "source": [
    "coreml_model.save('/Users/gustavodias/Downloads/1abrilCFineTuning.mlmodel')\n"
   ]
  },
  {
   "cell_type": "code",
   "execution_count": null,
   "id": "5a7c6453",
   "metadata": {},
   "outputs": [],
   "source": []
  }
 ],
 "metadata": {
  "kernelspec": {
   "display_name": "Python 3",
   "language": "python",
   "name": "python3"
  },
  "language_info": {
   "codemirror_mode": {
    "name": "ipython",
    "version": 3
   },
   "file_extension": ".py",
   "mimetype": "text/x-python",
   "name": "python",
   "nbconvert_exporter": "python",
   "pygments_lexer": "ipython3",
   "version": "3.8.16"
  }
 },
 "nbformat": 4,
 "nbformat_minor": 5
}
