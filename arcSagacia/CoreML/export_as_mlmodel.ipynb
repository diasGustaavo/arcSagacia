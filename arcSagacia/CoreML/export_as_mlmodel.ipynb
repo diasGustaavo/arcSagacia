{
 "cells": [
  {
   "cell_type": "code",
   "execution_count": 1,
   "id": "00470017",
   "metadata": {},
   "outputs": [],
   "source": [
    "import tensorflow as tf\n",
    "model = tf.keras.models.load_model('/Users/gustavodias/Desktop/ArcStyles/saved_model_h5_4_no_ft.h5')\n"
   ]
  },
  {
   "cell_type": "code",
   "execution_count": 2,
   "id": "f98ea991",
   "metadata": {},
   "outputs": [
    {
     "name": "stdout",
     "output_type": "stream",
     "text": [
      "Model: \"model\"\n",
      "_________________________________________________________________\n",
      " Layer (type)                Output Shape              Param #   \n",
      "=================================================================\n",
      " input_1 (InputLayer)        [(None, 224, 224, 3)]     0         \n",
      "                                                                 \n",
      " block1_conv1 (Conv2D)       (None, 224, 224, 64)      1792      \n",
      "                                                                 \n",
      " block1_conv2 (Conv2D)       (None, 224, 224, 64)      36928     \n",
      "                                                                 \n",
      " block1_pool (MaxPooling2D)  (None, 112, 112, 64)      0         \n",
      "                                                                 \n",
      " block2_conv1 (Conv2D)       (None, 112, 112, 128)     73856     \n",
      "                                                                 \n",
      " block2_conv2 (Conv2D)       (None, 112, 112, 128)     147584    \n",
      "                                                                 \n",
      " block2_pool (MaxPooling2D)  (None, 56, 56, 128)       0         \n",
      "                                                                 \n",
      " block3_conv1 (Conv2D)       (None, 56, 56, 256)       295168    \n",
      "                                                                 \n",
      " block3_conv2 (Conv2D)       (None, 56, 56, 256)       590080    \n",
      "                                                                 \n",
      " block3_conv3 (Conv2D)       (None, 56, 56, 256)       590080    \n",
      "                                                                 \n",
      " block3_pool (MaxPooling2D)  (None, 28, 28, 256)       0         \n",
      "                                                                 \n",
      " block4_conv1 (Conv2D)       (None, 28, 28, 512)       1180160   \n",
      "                                                                 \n",
      " block4_conv2 (Conv2D)       (None, 28, 28, 512)       2359808   \n",
      "                                                                 \n",
      " block4_conv3 (Conv2D)       (None, 28, 28, 512)       2359808   \n",
      "                                                                 \n",
      " block4_pool (MaxPooling2D)  (None, 14, 14, 512)       0         \n",
      "                                                                 \n",
      " block5_conv1 (Conv2D)       (None, 14, 14, 512)       2359808   \n",
      "                                                                 \n",
      " block5_conv2 (Conv2D)       (None, 14, 14, 512)       2359808   \n",
      "                                                                 \n",
      " block5_conv3 (Conv2D)       (None, 14, 14, 512)       2359808   \n",
      "                                                                 \n",
      " block5_pool (MaxPooling2D)  (None, 7, 7, 512)         0         \n",
      "                                                                 \n",
      " flatten (Flatten)           (None, 25088)             0         \n",
      "                                                                 \n",
      " dense (Dense)               (None, 4096)              102764544 \n",
      "                                                                 \n",
      " dense_1 (Dense)             (None, 1072)              4391984   \n",
      "                                                                 \n",
      " dropout (Dropout)           (None, 1072)              0         \n",
      "                                                                 \n",
      " dense_2 (Dense)             (None, 5)                 5365      \n",
      "                                                                 \n",
      "=================================================================\n",
      "Total params: 121,876,581\n",
      "Trainable params: 107,161,893\n",
      "Non-trainable params: 14,714,688\n",
      "_________________________________________________________________\n"
     ]
    }
   ],
   "source": [
    "model.summary()\n"
   ]
  },
  {
   "cell_type": "code",
   "execution_count": 10,
   "id": "e1b23dfd",
   "metadata": {},
   "outputs": [
    {
     "name": "stdout",
     "output_type": "stream",
     "text": [
      "1/1 [==============================] - 0s 17ms/step\n",
      "Predictions: [[5.1017919e-11 4.9760119e-15 1.6335326e-15 7.8279470e-08 9.9999988e-01]]\n",
      "Predicted class: neogotico\n"
     ]
    }
   ],
   "source": [
    "from tensorflow import keras\n",
    "from tensorflow.keras.preprocessing.image import load_img, img_to_array\n",
    "import numpy as np\n",
    "\n",
    "# Load the image\n",
    "img = load_img('/Users/gustavodias/Desktop/ArcStyles/train/Neogotico/200px-P1020476_Paris_VII_Basilique_Saint-Clotilde_rwk.JPG', target_size=(224, 224))\n",
    "\n",
    "# Preprocess the image\n",
    "img_array = img_to_array(img)\n",
    "img_array = np.expand_dims(img_array, axis=0)\n",
    "img_array = keras.applications.resnet50.preprocess_input(img_array)\n",
    "\n",
    "# Load the model\n",
    "# model = keras.models.load_model('my_model.h5')\n",
    "\n",
    "# Make a prediction\n",
    "predictions = model.predict(img_array)\n",
    "\n",
    "print(f'Predictions: {predictions}')\n",
    "\n",
    "# Interpret the prediction\n",
    "class_idx = np.argmax(predictions)\n",
    "class_names = ['barroco', 'ind', 'mod', 'neoclassica', 'neogotico']\n",
    "predicted_class = class_names[class_idx]\n",
    "\n",
    "print(f'Predicted class: {predicted_class}')\n"
   ]
  },
  {
   "cell_type": "code",
   "execution_count": 12,
   "id": "8f188282",
   "metadata": {},
   "outputs": [
    {
     "name": "stderr",
     "output_type": "stream",
     "text": [
      "scikit-learn version 1.2.2 is not supported. Minimum required version: 0.17. Maximum required version: 1.1.2. Disabling scikit-learn conversion API.\n",
      "TensorFlow version 2.11.0 has not been tested with coremltools. You may run into unexpected errors. TensorFlow 2.10.0 is the most recent version that has been tested.\n",
      "Running TensorFlow Graph Passes: 100%|██████████| 6/6 [00:02<00:00,  2.25 passes/s]\n",
      "Converting TF Frontend ==> MIL Ops: 100%|██████████| 89/89 [00:00<00:00, 300.18 ops/s]\n",
      "Running MIL Common passes: 100%|██████████| 40/40 [00:00<00:00, 124.07 passes/s]\n",
      "Running MIL Clean up passes: 100%|██████████| 11/11 [00:00<00:00, 14.62 passes/s]\n",
      "Translating MIL ==> NeuralNetwork Ops: 100%|██████████| 166/166 [00:42<00:00,  3.94 ops/s]\n"
     ]
    }
   ],
   "source": [
    "import coremltools as ct\n",
    "coreml_model = ct.convert(model)\n"
   ]
  },
  {
   "cell_type": "code",
   "execution_count": null,
   "id": "0f7b832b",
   "metadata": {},
   "outputs": [],
   "source": [
    "coreml_model.save('/Users/gustavodias/Downloads/saved_model_h5_4_no_ft.mlmodel')\n"
   ]
  },
  {
   "cell_type": "code",
   "execution_count": null,
   "id": "5a7c6453",
   "metadata": {},
   "outputs": [],
   "source": []
  }
 ],
 "metadata": {
  "kernelspec": {
   "display_name": "Python 3",
   "language": "python",
   "name": "python3"
  },
  "language_info": {
   "codemirror_mode": {
    "name": "ipython",
    "version": 3
   },
   "file_extension": ".py",
   "mimetype": "text/x-python",
   "name": "python",
   "nbconvert_exporter": "python",
   "pygments_lexer": "ipython3",
   "version": "3.8.16"
  }
 },
 "nbformat": 4,
 "nbformat_minor": 5
}
