{
 "cells": [
  {
   "cell_type": "code",
   "execution_count": 1,
   "id": "b31c5c74",
   "metadata": {
    "id": "b31c5c74"
   },
   "outputs": [],
   "source": [
    "import os\n",
    "from keras.models import Model\n",
    "from keras.optimizers import Adam\n",
    "from keras.applications.vgg16 import VGG16, preprocess_input\n",
    "from keras.preprocessing.image import ImageDataGenerator\n",
    "from keras.callbacks import ModelCheckpoint, EarlyStopping\n",
    "from keras.layers import Dense, Dropout, Flatten\n",
    "from pathlib import Path\n",
    "from sklearn.metrics import accuracy_score\n",
    "import numpy as np\n",
    "import scipy"
   ]
  },
  {
   "cell_type": "code",
   "execution_count": 2,
   "id": "gBMdbiHx-9Kv",
   "metadata": {
    "id": "gBMdbiHx-9Kv"
   },
   "outputs": [],
   "source": [
    "BATCH_SIZE = 64\n",
    "\n",
    "train_generator = ImageDataGenerator(rotation_range=90, \n",
    "                                     brightness_range=[0.1, 0.7],\n",
    "                                     width_shift_range=0.5, \n",
    "                                     height_shift_range=0.5,\n",
    "                                     horizontal_flip=True, \n",
    "                                     vertical_flip=True,\n",
    "                                     validation_split=0.15,\n",
    "                                     preprocessing_function=preprocess_input) # VGG16 preprocessing\n",
    "\n",
    "test_generator = ImageDataGenerator(preprocessing_function=preprocess_input) # VGG16 preprocessing"
   ]
  },
  {
   "cell_type": "code",
   "execution_count": 3,
   "id": "kqr3N46eEw3k",
   "metadata": {
    "colab": {
     "base_uri": "https://localhost:8080/"
    },
    "id": "kqr3N46eEw3k",
    "outputId": "42520789-382e-471d-c949-a9048df6f757"
   },
   "outputs": [
    {
     "name": "stdout",
     "output_type": "stream",
     "text": [
      "Found 182 images belonging to 5 classes.\n",
      "Found 31 images belonging to 5 classes.\n",
      "Found 48 images belonging to 5 classes.\n"
     ]
    }
   ],
   "source": [
    "train_data_dir = '/Users/gustavodias/Desktop/ArcStyles/train'\n",
    "test_data_dir = '/Users/gustavodias/Desktop/ArcStyles/test'\n",
    "\n",
    "class_subset = sorted(os.listdir('/Users/gustavodias/Desktop/ArcStyles/train'))[1:6] # Using only the first 10 classes\n",
    "\n",
    "traingen = train_generator.flow_from_directory(train_data_dir,\n",
    "                                               target_size=(224, 224),\n",
    "                                               class_mode='categorical',\n",
    "                                               classes=class_subset,\n",
    "                                               subset='training',\n",
    "                                               batch_size=BATCH_SIZE, \n",
    "                                               shuffle=True,\n",
    "                                               seed=42)\n",
    "\n",
    "validgen = train_generator.flow_from_directory(train_data_dir,\n",
    "                                               target_size=(224, 224),\n",
    "                                               class_mode='categorical',\n",
    "                                               classes=class_subset,\n",
    "                                               subset='validation',\n",
    "                                               batch_size=BATCH_SIZE,\n",
    "                                               shuffle=True,\n",
    "                                               seed=42)\n",
    "\n",
    "testgen = test_generator.flow_from_directory(test_data_dir,\n",
    "                                             target_size=(224, 224),\n",
    "                                             class_mode=None,\n",
    "                                             classes=class_subset,\n",
    "                                             batch_size=1,\n",
    "                                             shuffle=False,\n",
    "                                             seed=42)"
   ]
  },
  {
   "cell_type": "code",
   "execution_count": 4,
   "id": "5fd9a03c",
   "metadata": {
    "id": "5fd9a03c"
   },
   "outputs": [],
   "source": [
    "def create_model(input_shape, n_classes, optimizer='rmsprop', fine_tune=0):\n",
    "    \"\"\"\n",
    "    Compiles a model integrated with VGG16 pretrained layers\n",
    "    \n",
    "    input_shape: tuple - the shape of input images (width, height, channels)\n",
    "    n_classes: int - number of classes for the output layer\n",
    "    optimizer: string - instantiated optimizer to use for training. Defaults to 'RMSProp'\n",
    "    fine_tune: int - The number of pre-trained layers to unfreeze.\n",
    "                If set to 0, all pretrained layers will freeze during training\n",
    "    \"\"\"\n",
    "    \n",
    "    # Pretrained convolutional layers are loaded using the Imagenet weights.\n",
    "    # Include_top is set to False, in order to exclude the model's fully-connected layers.\n",
    "    conv_base = VGG16(include_top=False,\n",
    "                     weights='imagenet', \n",
    "                     input_shape=input_shape)\n",
    "    \n",
    "    # Defines how many layers to freeze during training.\n",
    "    # Layers in the convolutional base are switched from trainable to non-trainable\n",
    "    # depending on the size of the fine-tuning parameter.\n",
    "    if fine_tune > 0:\n",
    "        for layer in conv_base.layers[:-fine_tune]:\n",
    "            layer.trainable = False\n",
    "    else:\n",
    "        for layer in conv_base.layers:\n",
    "            layer.trainable = False\n",
    "\n",
    "    # Create a new 'top' of the model (i.e. fully-connected layers).\n",
    "    # This is 'bootstrapping' a new top_model onto the pretrained layers.\n",
    "    top_model = conv_base.output\n",
    "    top_model = Flatten(name=\"flatten\")(top_model)\n",
    "    top_model = Dense(4096, activation='relu')(top_model)\n",
    "    top_model = Dense(1072, activation='relu')(top_model)\n",
    "    top_model = Dropout(0.2)(top_model)\n",
    "    output_layer = Dense(n_classes, activation='softmax')(top_model)\n",
    "    \n",
    "    # Group the convolutional base and new fully-connected layers into a Model object.\n",
    "    model = Model(inputs=conv_base.input, outputs=output_layer)\n",
    "\n",
    "    # Compiles the model for training.\n",
    "    model.compile(optimizer=optimizer, \n",
    "                  loss='categorical_crossentropy',\n",
    "                  metrics=['accuracy'])\n",
    "    \n",
    "    return model"
   ]
  },
  {
   "cell_type": "code",
   "execution_count": 5,
   "id": "b3f737de",
   "metadata": {
    "id": "b3f737de"
   },
   "outputs": [],
   "source": [
    "input_shape = (224, 224, 3)\n",
    "optim_1 = Adam(learning_rate=0.001)\n",
    "n_classes=5\n",
    "\n",
    "n_steps = traingen.samples // BATCH_SIZE\n",
    "n_val_steps = validgen.samples // BATCH_SIZE\n",
    "n_epochs = 1000\n",
    "\n",
    "# First we'll train the model without Fine-tuning\n",
    "vgg_model = create_model(input_shape, n_classes, optim_1, fine_tune=0)"
   ]
  },
  {
   "cell_type": "code",
   "execution_count": 6,
   "id": "bd340777",
   "metadata": {
    "colab": {
     "base_uri": "https://localhost:8080/"
    },
    "id": "bd340777",
    "outputId": "70cc70cd-788c-4c48-f47c-a5b6e2a58aff"
   },
   "outputs": [],
   "source": [
    "from livelossplot.inputs.keras import PlotLossesCallback\n",
    "\n",
    "plot_loss_1 = PlotLossesCallback()\n",
    "\n",
    "# ModelCheckpoint callback - save best weights\n",
    "tl_checkpoint_1 = ModelCheckpoint(filepath='/Users/gustavodias/Downloads/tl_model_v1.weights.best.hdf5',\n",
    "                                  save_best_only=True,\n",
    "                                  verbose=1)\n",
    "\n",
    "# EarlyStopping\n",
    "early_stop = EarlyStopping(monitor='val_loss',\n",
    "                           patience=10,\n",
    "                           restore_best_weights=True,\n",
    "                           mode='min')"
   ]
  },
  {
   "cell_type": "code",
   "execution_count": 7,
   "id": "3f9ccf17",
   "metadata": {
    "colab": {
     "base_uri": "https://localhost:8080/",
     "height": 556
    },
    "id": "3f9ccf17",
    "outputId": "3e2b0781-6169-4c1c-b49d-619a02647d79"
   },
   "outputs": [
    {
     "data": {
      "image/png": "[encoded data removed]",
      "text/plain": [
       "<Figure size 864x576 with 2 Axes>"
      ]
     },
     "metadata": {
      "needs_background": "light"
     },
     "output_type": "display_data"
    },
    {
     "name": "stdout",
     "output_type": "stream",
     "text": [
      "accuracy\n",
      "\taccuracy         \t (min:    0.161, max:    0.984, cur:    0.941)\n",
      "Loss\n",
      "\tloss             \t (min:    0.054, max:  203.358, cur:    0.169)\n",
      "2/2 [==============================] - 4s 2s/step - loss: 0.1685 - accuracy: 0.9407\n",
      "CPU times: user 1h 30min 52s, sys: 13min 40s, total: 1h 44min 32s\n",
      "Wall time: 1h 21min 47s\n"
     ]
    }
   ],
   "source": [
    "%%time \n",
    "\n",
    "vgg_history = vgg_model.fit(traingen,\n",
    "                            batch_size=BATCH_SIZE,\n",
    "                            epochs=n_epochs,\n",
    "                            validation_data=validgen,\n",
    "                            steps_per_epoch=n_steps,\n",
    "                            validation_steps=n_val_steps,\n",
    "                            callbacks=[tl_checkpoint_1, early_stop, plot_loss_1],\n",
    "                            verbose=1)"
   ]
  },
  {
   "cell_type": "code",
   "execution_count": 8,
   "id": "JeteVCy_Jy00",
   "metadata": {
    "id": "JeteVCy_Jy00"
   },
   "outputs": [
    {
     "name": "stdout",
     "output_type": "stream",
     "text": [
      "48/48 [==============================] - 1s 23ms/step\n"
     ]
    }
   ],
   "source": [
    "# Generate predictions\n",
    "vgg_model.load_weights('/Users/gustavodias/Downloads/tl_model_v1.weights.best.hdf5') # initialize the best trained weights\n",
    "\n",
    "true_classes = testgen.classes\n",
    "class_indices = traingen.class_indices\n",
    "class_indices = dict((v,k) for k,v in class_indices.items())\n",
    "\n",
    "vgg_preds = vgg_model.predict(testgen)\n",
    "vgg_pred_classes = np.argmax(vgg_preds, axis=1)"
   ]
  },
  {
   "cell_type": "code",
   "execution_count": 9,
   "id": "2c189e05",
   "metadata": {},
   "outputs": [
    {
     "data": {
      "text/plain": [
       "array([0, 0, 0, 0, 0, 0, 0, 0, 0, 0, 1, 1, 1, 1, 1, 1, 1, 1, 1, 1, 2, 2,\n",
       "       2, 2, 2, 2, 2, 2, 3, 3, 3, 3, 3, 3, 3, 3, 3, 3, 4, 4, 4, 4, 4, 4,\n",
       "       4, 4, 4, 4], dtype=int32)"
      ]
     },
     "execution_count": 9,
     "metadata": {},
     "output_type": "execute_result"
    }
   ],
   "source": [
    "true_classes"
   ]
  },
  {
   "cell_type": "code",
   "execution_count": 10,
   "id": "0df258d1",
   "metadata": {},
   "outputs": [
    {
     "data": {
      "text/plain": [
       "{0: 'Barroca',\n",
       " 1: 'Indigenous',\n",
       " 2: 'Modernista',\n",
       " 3: 'Neoclassica',\n",
       " 4: 'Neogotico'}"
      ]
     },
     "execution_count": 10,
     "metadata": {},
     "output_type": "execute_result"
    }
   ],
   "source": [
    "class_indices"
   ]
  },
  {
   "cell_type": "code",
   "execution_count": 11,
   "id": "563aae2e",
   "metadata": {},
   "outputs": [
    {
     "data": {
      "text/plain": [
       "array([0, 0, 0, 4, 4, 0, 0, 0, 4, 0, 1, 1, 2, 1, 1, 1, 1, 1, 1, 1, 2, 2,\n",
       "       2, 2, 2, 2, 2, 2, 3, 3, 0, 3, 3, 3, 4, 3, 2, 3, 4, 2, 0, 4, 4, 2,\n",
       "       4, 4, 4, 4])"
      ]
     },
     "execution_count": 11,
     "metadata": {},
     "output_type": "execute_result"
    }
   ],
   "source": [
    "vgg_pred_classes"
   ]
  },
  {
   "cell_type": "code",
   "execution_count": 12,
   "id": "21c2bd39",
   "metadata": {
    "id": "21c2bd39"
   },
   "outputs": [
    {
     "name": "stdout",
     "output_type": "stream",
     "text": [
      "VGG16 Model Accuracy without Fine-Tuning: 79.17%\n"
     ]
    }
   ],
   "source": [
    "vgg_acc = accuracy_score(true_classes, vgg_pred_classes)\n",
    "print(\"VGG16 Model Accuracy without Fine-Tuning: {:.2f}%\".format(vgg_acc * 100))"
   ]
  },
  {
   "cell_type": "code",
   "execution_count": 13,
   "id": "MWI3H8BGHSY0",
   "metadata": {
    "id": "MWI3H8BGHSY0"
   },
   "outputs": [
    {
     "name": "stderr",
     "output_type": "stream",
     "text": [
      "/opt/homebrew/Caskroom/miniconda/base/envs/mlp/lib/python3.8/site-packages/keras/optimizers/optimizer_v2/adam.py:117: UserWarning: The `lr` argument is deprecated, use `learning_rate` instead.\n",
      "  super().__init__(name, **kwargs)\n"
     ]
    }
   ],
   "source": [
    "# Reset our image data generators\n",
    "traingen.reset()\n",
    "validgen.reset()\n",
    "testgen.reset()\n",
    "\n",
    "# Use a smaller learning rate\n",
    "optim_2 = Adam(lr=0.0001)\n",
    "\n",
    "# Re-compile the model, this time leaving the last 2 layers unfrozen for Fine-Tuning\n",
    "vgg_model_ft = create_model(input_shape, n_classes, optim_2, fine_tune=2)"
   ]
  },
  {
   "cell_type": "code",
   "execution_count": 14,
   "id": "A4eADr0XHUxJ",
   "metadata": {
    "id": "A4eADr0XHUxJ"
   },
   "outputs": [
    {
     "data": {
      "image/png": "[encoded data removed]",
      "text/plain": [
       "<Figure size 864x576 with 2 Axes>"
      ]
     },
     "metadata": {
      "needs_background": "light"
     },
     "output_type": "display_data"
    },
    {
     "name": "stdout",
     "output_type": "stream",
     "text": [
      "accuracy\n",
      "\taccuracy         \t (min:    0.161, max:    1.000, cur:    0.975)\n",
      "Loss\n",
      "\tloss             \t (min:    0.003, max:   23.199, cur:    0.105)\n",
      "2/2 [==============================] - 4s 2s/step - loss: 0.1048 - accuracy: 0.9746\n",
      "CPU times: user 1h 31min 6s, sys: 15min 50s, total: 1h 46min 56s\n",
      "Wall time: 1h 22min 51s\n"
     ]
    }
   ],
   "source": [
    "%%time\n",
    "\n",
    "plot_loss_2 = PlotLossesCallback()\n",
    "\n",
    "# Retrain model with fine-tuning\n",
    "vgg_ft_history = vgg_model_ft.fit(traingen,\n",
    "                                  batch_size=BATCH_SIZE,\n",
    "                                  epochs=n_epochs,\n",
    "                                  validation_data=validgen,\n",
    "                                  steps_per_epoch=n_steps, \n",
    "                                  validation_steps=n_val_steps,\n",
    "                                  callbacks=[tl_checkpoint_1, early_stop, plot_loss_2],\n",
    "                                  verbose=1)"
   ]
  },
  {
   "cell_type": "code",
   "execution_count": 15,
   "id": "NRFHoOpYHZpk",
   "metadata": {
    "id": "NRFHoOpYHZpk"
   },
   "outputs": [
    {
     "name": "stdout",
     "output_type": "stream",
     "text": [
      "48/48 [==============================] - 1s 23ms/step\n"
     ]
    }
   ],
   "source": [
    "# Generate predictions\n",
    "vgg_model_ft.load_weights('/Users/gustavodias/Downloads/tl_model_v1.weights.best.hdf5') # initialize the best trained weights\n",
    "\n",
    "vgg_preds_ft = vgg_model_ft.predict(testgen)\n",
    "vgg_pred_classes_ft = np.argmax(vgg_preds_ft, axis=1)"
   ]
  },
  {
   "cell_type": "code",
   "execution_count": 16,
   "id": "GhebcR1gHaMp",
   "metadata": {
    "id": "GhebcR1gHaMp"
   },
   "outputs": [
    {
     "name": "stdout",
     "output_type": "stream",
     "text": [
      "VGG16 Model Accuracy with Fine-Tuning: 77.08%\n"
     ]
    }
   ],
   "source": [
    "vgg_acc_ft = accuracy_score(true_classes, vgg_pred_classes_ft)\n",
    "print(\"VGG16 Model Accuracy with Fine-Tuning: {:.2f}%\".format(vgg_acc_ft * 100))"
   ]
  },
  {
   "cell_type": "code",
   "execution_count": 17,
   "id": "6TC7IvkCTep6",
   "metadata": {
    "id": "6TC7IvkCTep6"
   },
   "outputs": [],
   "source": [
    "vgg_model.save('/Users/gustavodias/Desktop/ArcStyles/saved_model_h5_5_no_ft.h5')\n",
    "vgg_model_ft.save('/Users/gustavodias/Desktop/ArcStyles/saved_model_h5_5_ft.h5')"
   ]
  },
  {
   "cell_type": "code",
   "execution_count": 19,
   "id": "2392a30c",
   "metadata": {},
   "outputs": [
    {
     "name": "stderr",
     "output_type": "stream",
     "text": [
      "Running TensorFlow Graph Passes: 100%|██████████| 6/6 [00:01<00:00,  5.60 passes/s]\n",
      "Converting TF Frontend ==> MIL Ops: 100%|██████████| 89/89 [00:00<00:00, 462.83 ops/s]\n",
      "Running MIL Common passes: 100%|██████████| 40/40 [00:00<00:00, 139.01 passes/s]\n",
      "Running MIL Clean up passes: 100%|██████████| 11/11 [00:00<00:00, 31.48 passes/s]\n",
      "Translating MIL ==> NeuralNetwork Ops: 100%|██████████| 166/166 [00:43<00:00,  3.85 ops/s]\n"
     ]
    }
   ],
   "source": [
    "import coremltools as ct\n",
    "coreml_model = ct.convert(vgg_model, inputs=[ct.ImageType(name='image', shape=model.input_shape[1:])])"
   ]
  },
  {
   "cell_type": "code",
   "execution_count": 20,
   "id": "81fc9739",
   "metadata": {},
   "outputs": [],
   "source": [
    "coreml_model.save('/Users/gustavodias/Downloads/saved_model_h5_5_no_ft.mlmodel')"
   ]
  },
  {
   "cell_type": "code",
   "execution_count": 21,
   "id": "1b903032",
   "metadata": {},
   "outputs": [
    {
     "name": "stderr",
     "output_type": "stream",
     "text": [
      "Running TensorFlow Graph Passes: 100%|██████████| 6/6 [00:04<00:00,  1.37 passes/s]\n",
      "Converting TF Frontend ==> MIL Ops: 100%|██████████| 89/89 [00:00<00:00, 366.19 ops/s]\n",
      "Running MIL Common passes: 100%|██████████| 40/40 [00:00<00:00, 134.80 passes/s]\n",
      "Running MIL Clean up passes: 100%|██████████| 11/11 [00:00<00:00, 31.54 passes/s]\n",
      "Translating MIL ==> NeuralNetwork Ops: 100%|██████████| 166/166 [00:42<00:00,  3.94 ops/s]\n"
     ]
    }
   ],
   "source": [
    "coreml_model = ct.convert(vgg_model_ft, inputs=[ct.ImageType(name='image', shape=model.input_shape[1:])])"
   ]
  },
  {
   "cell_type": "code",
   "execution_count": 22,
   "id": "55b021ee",
   "metadata": {},
   "outputs": [],
   "source": [
    "coreml_model.save('/Users/gustavodias/Downloads/saved_model_h5_5_ft.mlmodel')"
   ]
  },
  {
   "cell_type": "code",
   "execution_count": null,
   "id": "2d0bfdc3",
   "metadata": {},
   "outputs": [],
   "source": []
  }
 ],
 "metadata": {
  "accelerator": "GPU",
  "colab": {
   "provenance": []
  },
  "gpuClass": "standard",
  "kernelspec": {
   "display_name": "Python 3",
   "language": "python",
   "name": "python3"
  },
  "language_info": {
   "codemirror_mode": {
    "name": "ipython",
    "version": 3
   },
   "file_extension": ".py",
   "mimetype": "text/x-python",
   "name": "python",
   "nbconvert_exporter": "python",
   "pygments_lexer": "ipython3",
   "version": "3.8.16"
  }
 },
 "nbformat": 4,
 "nbformat_minor": 5
}
